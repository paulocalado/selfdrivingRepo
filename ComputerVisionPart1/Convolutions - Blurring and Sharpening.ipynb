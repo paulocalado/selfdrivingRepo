{
 "cells": [
  {
   "cell_type": "code",
   "execution_count": 1,
   "metadata": {},
   "outputs": [],
   "source": [
    "import matplotlib.image as mpimg\n",
    "import matplotlib.pyplot as plt\n",
    "import numpy as np\n",
    "import cv2"
   ]
  },
  {
   "cell_type": "code",
   "execution_count": 3,
   "metadata": {},
   "outputs": [],
   "source": [
    "image = cv2.imread(\"Self_Driving_Car.jpg\")\n",
    "\n",
    "cv2.imshow(\"Self Driving Car\",image)\n",
    "cv2.waitKey()\n",
    "cv2.destroyAllWindows()"
   ]
  },
  {
   "cell_type": "code",
   "execution_count": 4,
   "metadata": {},
   "outputs": [
    {
     "data": {
      "text/plain": [
       "(426, 640, 3)"
      ]
     },
     "execution_count": 4,
     "metadata": {},
     "output_type": "execute_result"
    }
   ],
   "source": [
    "image.shape"
   ]
  },
  {
   "cell_type": "code",
   "execution_count": 5,
   "metadata": {},
   "outputs": [],
   "source": [
    "image_gray = cv2.cvtColor(image,cv2.COLOR_BGR2GRAY)\n",
    "cv2.imshow('Gray Scale',image_gray)\n",
    "cv2.waitKey()\n",
    "cv2.destroyAllWindows()"
   ]
  },
  {
   "cell_type": "code",
   "execution_count": 10,
   "metadata": {},
   "outputs": [],
   "source": [
    "#Sharpening Kernell #1\n",
    "# sharp_kernell = np.array([[0,-1,0],\n",
    "#                         [-1,5,-1],\n",
    "#                         [0,-1,0]])\n",
    "\n",
    "#Sharpening Kernell #2\n",
    "sharp_kernell = np.array([[-1,-1,-1],\n",
    "                        [-1,9,-1],\n",
    "                        [-1,-1,-1]])\n",
    "\n",
    "\n",
    "Sharpened_image = cv2.filter2D(image_gray,-1,sharp_kernell)"
   ]
  },
  {
   "cell_type": "code",
   "execution_count": 11,
   "metadata": {},
   "outputs": [],
   "source": [
    "cv2.imshow(\"Sharpened Image\",Sharpened_image)\n",
    "cv2.imshow(\"Normal Image\",image_gray)\n",
    "cv2.waitKey()\n",
    "cv2.destroyAllWindows()"
   ]
  },
  {
   "cell_type": "code",
   "execution_count": 12,
   "metadata": {},
   "outputs": [
    {
     "data": {
      "text/plain": [
       "array([[1., 1., 1.],\n",
       "       [1., 1., 1.],\n",
       "       [1., 1., 1.]])"
      ]
     },
     "execution_count": 12,
     "metadata": {},
     "output_type": "execute_result"
    }
   ],
   "source": [
    "##### BLUR KERNELL\n",
    "\n",
    "blur_kernell = np.ones((3,3))\n",
    "blur_kernell"
   ]
  },
  {
   "cell_type": "code",
   "execution_count": 13,
   "metadata": {},
   "outputs": [],
   "source": [
    "blurred_image = cv2.filter2D(image_gray,-1,blur_kernell)\n",
    "cv2.imshow(\"Blurred image\",blurred_image)\n",
    "cv2.imshow(\"Normal Image\", image_gray)\n",
    "cv2.waitKey()\n",
    "cv2.destroyAllWindows()"
   ]
  },
  {
   "cell_type": "code",
   "execution_count": 16,
   "metadata": {},
   "outputs": [],
   "source": [
    "#### We need to normalize the blur kernell\n",
    "norm_blur_kernell = np.ones((3,3))*1/9\n",
    "\n",
    "blurred_image = cv2.filter2D(image_gray,-1,norm_blur_kernell)\n",
    "cv2.imshow(\"Blurred image\",blurred_image)\n",
    "cv2.imshow(\"Normal Image\", image_gray)\n",
    "cv2.waitKey()\n",
    "cv2.destroyAllWindows()"
   ]
  },
  {
   "cell_type": "code",
   "execution_count": 17,
   "metadata": {},
   "outputs": [],
   "source": [
    "####Larger Kernells\n",
    "norm_blur_kernell = np.ones((8,8))*1/64\n",
    "\n",
    "blurred_image = cv2.filter2D(image_gray,-1,norm_blur_kernell)\n",
    "cv2.imshow(\"Blurred image\",blurred_image)\n",
    "cv2.imshow(\"Normal Image\", image_gray)\n",
    "cv2.waitKey()\n",
    "cv2.destroyAllWindows()"
   ]
  },
  {
   "cell_type": "code",
   "execution_count": null,
   "metadata": {},
   "outputs": [],
   "source": []
  }
 ],
 "metadata": {
  "kernelspec": {
   "display_name": "Python 3",
   "language": "python",
   "name": "python3"
  },
  "language_info": {
   "codemirror_mode": {
    "name": "ipython",
    "version": 3
   },
   "file_extension": ".py",
   "mimetype": "text/x-python",
   "name": "python",
   "nbconvert_exporter": "python",
   "pygments_lexer": "ipython3",
   "version": "3.7.2"
  }
 },
 "nbformat": 4,
 "nbformat_minor": 2
}
