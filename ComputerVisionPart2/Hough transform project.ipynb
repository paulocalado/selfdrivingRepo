{
 "cells": [
  {
   "cell_type": "code",
   "execution_count": 1,
   "metadata": {},
   "outputs": [],
   "source": [
    "import matplotlib.image as mpimg\n",
    "import matplotlib.pyplot as plt\n",
    "import numpy as np\n",
    "import cv2\n",
    "%matplotlib inline"
   ]
  },
  {
   "cell_type": "code",
   "execution_count": 2,
   "metadata": {},
   "outputs": [],
   "source": [
    "image = cv2.imread(\"new_test_image_3.jpg\")\n",
    "cv2.imshow(\"image\",image)\n",
    "cv2.waitKey()\n",
    "cv2.destroyAllWindows()"
   ]
  },
  {
   "cell_type": "code",
   "execution_count": 3,
   "metadata": {},
   "outputs": [],
   "source": [
    "gray_image = cv2.cvtColor(image,cv2.COLOR_BGR2GRAY)\n",
    "cv2.imshow(\"gray\",gray_image)\n",
    "cv2.waitKey()\n",
    "cv2.destroyAllWindows()"
   ]
  },
  {
   "cell_type": "code",
   "execution_count": 5,
   "metadata": {},
   "outputs": [],
   "source": [
    "blured_image = cv2.GaussianBlur(image,(7,7),0)"
   ]
  },
  {
   "cell_type": "code",
   "execution_count": 7,
   "metadata": {},
   "outputs": [],
   "source": [
    "threshold_low = 10\n",
    "threshold_high = 200\n",
    "\n",
    "canny_image = cv2.Canny(blured_image,threshold_low,threshold_high)\n",
    "cv2.imshow(\"Canny\",canny_image)\n",
    "cv2.waitKey()\n",
    "cv2.destroyAllWindows()"
   ]
  },
  {
   "cell_type": "code",
   "execution_count": 10,
   "metadata": {},
   "outputs": [
    {
     "data": {
      "text/plain": [
       "<matplotlib.image.AxesImage at 0x12746e7f0>"
      ]
     },
     "execution_count": 10,
     "metadata": {},
     "output_type": "execute_result"
    },
    {
     "data": {
      "image/png": "[encoded data removed]",
      "text/plain": [
       "<Figure size 432x288 with 1 Axes>"
      ]
     },
     "metadata": {
      "needs_background": "light"
     },
     "output_type": "display_data"
    }
   ],
   "source": [
    "plt.imshow(canny_image,cmap=\"gray\")"
   ]
  },
  {
   "cell_type": "code",
   "execution_count": 13,
   "metadata": {},
   "outputs": [
    {
     "data": {
      "text/plain": [
       "(540, 956, 3)"
      ]
     },
     "execution_count": 13,
     "metadata": {},
     "output_type": "execute_result"
    }
   ],
   "source": [
    "blured_image.shape"
   ]
  },
  {
   "cell_type": "code",
   "execution_count": 38,
   "metadata": {},
   "outputs": [],
   "source": [
    "vertices = np.array([[(20,460),(340, 300), (460, 300), (740,460)]], dtype=np.int32)\n",
    "mask = np.zeros_like(image)\n",
    "cv2.fillPoly(mask,vertices,255)\n",
    "masked_image = cv2.bitwise_and(image,mask)\n",
    "cv2.imshow(\"mask\",masked_image)\n",
    "cv2.waitKey()\n",
    "cv2.destroyAllWindows()"
   ]
  },
  {
   "cell_type": "code",
   "execution_count": 40,
   "metadata": {},
   "outputs": [],
   "source": [
    "mask = np.zeros_like(canny_image)\n",
    "cv2.fillPoly(mask,vertices,255)\n",
    "masked = cv2.bitwise_and(canny_image,mask)\n",
    "cv2.imshow(\"masked canny\",masked)\n",
    "cv2.waitKey()\n",
    "cv2.destroyAllWindows()"
   ]
  },
  {
   "cell_type": "code",
   "execution_count": 48,
   "metadata": {},
   "outputs": [
    {
     "data": {
      "text/plain": [
       "array([[[228, 397, 389, 311]],\n",
       "\n",
       "       [[169, 460, 387, 313]],\n",
       "\n",
       "       [[419, 301, 608, 433]],\n",
       "\n",
       "       [[474, 345, 576, 422]],\n",
       "\n",
       "       [[140, 448, 273, 372]],\n",
       "\n",
       "       [[505, 362, 606, 433]],\n",
       "\n",
       "       [[266, 393, 374, 325]]], dtype=int32)"
      ]
     },
     "execution_count": 48,
     "metadata": {},
     "output_type": "execute_result"
    }
   ],
   "source": [
    "rho = 2\n",
    "theta = np.pi/180\n",
    "threshold = 40\n",
    "min_line_len = 100\n",
    "max_line_gap = 50\n",
    "lines = cv2.HoughLinesP(masked,rho,theta,threshold,np.array([]), minLineLength = min_line_len,maxLineGap = max_line_gap)\n",
    "\n",
    "line_image = np.zeros((masked.shape[0],masked.shape[1],3), dtype=np.uint8)\n",
    "\n",
    "for line in lines:\n",
    "    for x1,y1,x2,y2 in line:\n",
    "        cv2.line(line_image,(x1,y1),(x2,y2),[255,0,0],20)\n",
    "lines"
   ]
  },
  {
   "cell_type": "code",
   "execution_count": 49,
   "metadata": {},
   "outputs": [],
   "source": [
    "a = 1\n",
    "b = 1\n",
    "y = 0\n",
    "image_with_lines = cv2.addWeighted(image,a,line_image,b,y)\n",
    "cv2.imshow(\"result\",image_with_lines)\n",
    "cv2.waitKey()\n",
    "cv2.destroyAllWindows()"
   ]
  },
  {
   "cell_type": "code",
   "execution_count": null,
   "metadata": {},
   "outputs": [],
   "source": []
  }
 ],
 "metadata": {
  "kernelspec": {
   "display_name": "Python 3",
   "language": "python",
   "name": "python3"
  },
  "language_info": {
   "codemirror_mode": {
    "name": "ipython",
    "version": 3
   },
   "file_extension": ".py",
   "mimetype": "text/x-python",
   "name": "python",
   "nbconvert_exporter": "python",
   "pygments_lexer": "ipython3",
   "version": "3.7.2"
  }
 },
 "nbformat": 4,
 "nbformat_minor": 2
}
