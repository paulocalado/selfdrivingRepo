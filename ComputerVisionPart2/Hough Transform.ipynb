{
 "cells": [
  {
   "cell_type": "code",
   "execution_count": 13,
   "metadata": {},
   "outputs": [],
   "source": [
    "import matplotlib.image as mpimg\n",
    "import matplotlib.pyplot as plt\n",
    "import numpy as np\n",
    "import cv2\n",
    "%matplotlib inline"
   ]
  },
  {
   "cell_type": "code",
   "execution_count": 23,
   "metadata": {},
   "outputs": [],
   "source": [
    "#image = cv2.imread(\"horizontal_vertical.jpg\")\n",
    "image = cv2.imread(\"calendar.jpg\")\n",
    "cv2.imshow(\"Original\",image)\n",
    "cv2.waitKey()\n",
    "cv2.destroyAllWindows()"
   ]
  },
  {
   "cell_type": "code",
   "execution_count": 24,
   "metadata": {},
   "outputs": [
    {
     "data": {
      "text/plain": [
       "<matplotlib.image.AxesImage at 0x120931c18>"
      ]
     },
     "execution_count": 24,
     "metadata": {},
     "output_type": "execute_result"
    },
    {
     "data": {
      "image/png": "[encoded data removed]",
      "text/plain": [
       "<Figure size 432x288 with 1 Axes>"
      ]
     },
     "metadata": {
      "needs_background": "light"
     },
     "output_type": "display_data"
    }
   ],
   "source": [
    "plt.imshow(image)"
   ]
  },
  {
   "cell_type": "code",
   "execution_count": 25,
   "metadata": {},
   "outputs": [
    {
     "data": {
      "text/plain": [
       "array([[255, 255, 255, ..., 255, 255, 255],\n",
       "       [255,   0,   0, ...,   0,   0, 255],\n",
       "       [255,   0,   0, ...,   0, 255,   0],\n",
       "       ...,\n",
       "       [255,   0,   0, ...,   0, 255,   0],\n",
       "       [255,   0,   0, ...,   0,   0, 255],\n",
       "       [255, 255, 255, ..., 255, 255, 255]], dtype=uint8)"
      ]
     },
     "execution_count": 25,
     "metadata": {},
     "output_type": "execute_result"
    }
   ],
   "source": [
    "gray_image = cv2.cvtColor(image,cv2.COLOR_BGR2GRAY)\n",
    "canny_image = cv2.Canny(gray_image,50,200,apertureSize=3)\n",
    "canny_image"
   ]
  },
  {
   "cell_type": "code",
   "execution_count": 26,
   "metadata": {},
   "outputs": [],
   "source": [
    "cv2.imshow(\"Canny image\",canny_image)\n",
    "cv2.waitKey()\n",
    "cv2.destroyAllWindows()"
   ]
  },
  {
   "cell_type": "code",
   "execution_count": 27,
   "metadata": {},
   "outputs": [],
   "source": [
    "lines = cv2.HoughLines(canny_image,1,np.pi/180,300)"
   ]
  },
  {
   "cell_type": "code",
   "execution_count": 28,
   "metadata": {},
   "outputs": [
    {
     "data": {
      "text/plain": [
       "array([[[  0.       ,   1.5707964]],\n",
       "\n",
       "       [[481.       ,   1.5707964]],\n",
       "\n",
       "       [[105.       ,   1.5707964]],\n",
       "\n",
       "       [[107.       ,   1.5707964]],\n",
       "\n",
       "       [[198.       ,   1.5707964]],\n",
       "\n",
       "       [[200.       ,   1.5707964]],\n",
       "\n",
       "       [[261.       ,   1.5707964]],\n",
       "\n",
       "       [[263.       ,   1.5707964]],\n",
       "\n",
       "       [[389.       ,   1.5707964]],\n",
       "\n",
       "       [[391.       ,   1.5707964]],\n",
       "\n",
       "       [[453.       ,   1.5707964]],\n",
       "\n",
       "       [[455.       ,   1.5707964]],\n",
       "\n",
       "       [[136.       ,   1.5707964]],\n",
       "\n",
       "       [[133.       ,   1.5707964]],\n",
       "\n",
       "       [[  0.       ,   0.       ]],\n",
       "\n",
       "       [[325.       ,   1.5707964]],\n",
       "\n",
       "       [[327.       ,   1.5707964]],\n",
       "\n",
       "       [[624.       ,   0.       ]],\n",
       "\n",
       "       [[432.       ,   0.       ]],\n",
       "\n",
       "       [[194.       ,   0.       ]],\n",
       "\n",
       "       [[196.       ,   0.       ]],\n",
       "\n",
       "       [[430.       ,   0.       ]],\n",
       "\n",
       "       [[117.       ,   0.       ]],\n",
       "\n",
       "       [[272.       ,   0.       ]],\n",
       "\n",
       "       [[351.       ,   0.       ]],\n",
       "\n",
       "       [[274.       ,   0.       ]],\n",
       "\n",
       "       [[353.       ,   0.       ]],\n",
       "\n",
       "       [[115.       ,   0.       ]],\n",
       "\n",
       "       [[ 36.       ,   0.       ]],\n",
       "\n",
       "       [[589.       ,   0.       ]]], dtype=float32)"
      ]
     },
     "execution_count": 28,
     "metadata": {},
     "output_type": "execute_result"
    }
   ],
   "source": [
    "lines\n",
    "#1.57 rad is almost 90 degrees"
   ]
  },
  {
   "cell_type": "code",
   "execution_count": 29,
   "metadata": {},
   "outputs": [
    {
     "data": {
      "text/plain": [
       "30"
      ]
     },
     "execution_count": 29,
     "metadata": {},
     "output_type": "execute_result"
    }
   ],
   "source": [
    "len(lines)"
   ]
  },
  {
   "cell_type": "code",
   "execution_count": 30,
   "metadata": {},
   "outputs": [
    {
     "data": {
      "text/plain": [
       "(30, 1, 2)"
      ]
     },
     "execution_count": 30,
     "metadata": {},
     "output_type": "execute_result"
    }
   ],
   "source": [
    "lines.shape"
   ]
  },
  {
   "cell_type": "code",
   "execution_count": 31,
   "metadata": {},
   "outputs": [],
   "source": [
    "if lines is not None:\n",
    "    for i in range(0,len(lines)):\n",
    "        rho = lines[i][0][0]\n",
    "        theta = lines[i][0][1]\n",
    "        \n",
    "        x0 = rho*np.cos(theta)\n",
    "        y0 = rho*np.sin(theta)\n",
    "        \n",
    "        a = np.cos(theta)\n",
    "        b = np.sin(theta)\n",
    "        \n",
    "        x1 = int(x0 + 1000 * (-b))\n",
    "        y1 = int(y0 + 1000 * (a))\n",
    "        x2 = int(x0 - 1000 * (-b))\n",
    "        y2 = int(y0 - 1000 * (a))\n",
    "        \n",
    "        cv2.line(image,(x1,y1),(x2,y2),(255,0,0),2)\n",
    "\n",
    "cv2.imshow(\"Hough Lines\",image)\n",
    "cv2.waitKey()\n",
    "cv2.destroyAllWindows()"
   ]
  },
  {
   "cell_type": "code",
   "execution_count": null,
   "metadata": {},
   "outputs": [],
   "source": []
  }
 ],
 "metadata": {
  "kernelspec": {
   "display_name": "Python 3",
   "language": "python",
   "name": "python3"
  },
  "language_info": {
   "codemirror_mode": {
    "name": "ipython",
    "version": 3
   },
   "file_extension": ".py",
   "mimetype": "text/x-python",
   "name": "python",
   "nbconvert_exporter": "python",
   "pygments_lexer": "ipython3",
   "version": "3.7.2"
  }
 },
 "nbformat": 4,
 "nbformat_minor": 2
}
